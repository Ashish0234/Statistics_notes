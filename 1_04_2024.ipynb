{
 "cells": [
  {
   "cell_type": "code",
   "execution_count": 1,
   "id": "52d25d11",
   "metadata": {},
   "outputs": [],
   "source": [
    "from scipy.stats import skew \n",
    "from scipy.stats import kurtosis"
   ]
  },
  {
   "cell_type": "code",
   "execution_count": 2,
   "id": "803893b0",
   "metadata": {},
   "outputs": [
    {
     "data": {
      "text/plain": [
       "0.0326966578855933"
      ]
     },
     "execution_count": 2,
     "metadata": {},
     "output_type": "execute_result"
    }
   ],
   "source": [
    "data=[88,85,82,97,67,77,74,86,81,95,77,88,85,76,81]\n",
    "#calculate sample skewness\n",
    "skew(data,bias=False)"
   ]
  },
  {
   "cell_type": "code",
   "execution_count": 3,
   "id": "21f480ce",
   "metadata": {},
   "outputs": [
    {
     "data": {
      "text/plain": [
       "0.11815715154945083"
      ]
     },
     "execution_count": 3,
     "metadata": {},
     "output_type": "execute_result"
    }
   ],
   "source": [
    "kurtosis(data,bias=False)"
   ]
  },
  {
   "cell_type": "code",
   "execution_count": null,
   "id": "671fe089",
   "metadata": {},
   "outputs": [],
   "source": []
  }
 ],
 "metadata": {
  "kernelspec": {
   "display_name": "Python 3 (ipykernel)",
   "language": "python",
   "name": "python3"
  },
  "language_info": {
   "codemirror_mode": {
    "name": "ipython",
    "version": 3
   },
   "file_extension": ".py",
   "mimetype": "text/x-python",
   "name": "python",
   "nbconvert_exporter": "python",
   "pygments_lexer": "ipython3",
   "version": "3.11.5"
  }
 },
 "nbformat": 4,
 "nbformat_minor": 5
}
