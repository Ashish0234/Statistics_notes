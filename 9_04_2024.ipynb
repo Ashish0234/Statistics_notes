{
 "cells": [
  {
   "cell_type": "code",
   "execution_count": 1,
   "id": "88878378",
   "metadata": {},
   "outputs": [],
   "source": [
    "from numpy import random"
   ]
  },
  {
   "cell_type": "code",
   "execution_count": 2,
   "id": "1eeb0cc0",
   "metadata": {},
   "outputs": [],
   "source": [
    "import matplotlib.pyplot as plt"
   ]
  },
  {
   "cell_type": "code",
   "execution_count": 3,
   "id": "76f1d1f4",
   "metadata": {},
   "outputs": [],
   "source": [
    "import seaborn as sns"
   ]
  },
  {
   "cell_type": "code",
   "execution_count": 6,
   "id": "e60a69bd",
   "metadata": {},
   "outputs": [],
   "source": [
    "x= random.exponential(scale=2, size=(2,3))\n"
   ]
  },
  {
   "cell_type": "code",
   "execution_count": 7,
   "id": "6a9fd051",
   "metadata": {},
   "outputs": [
    {
     "name": "stdout",
     "output_type": "stream",
     "text": [
      "[[1.90484629 3.66267459 1.07887643]\n",
      " [1.73806176 2.86694448 3.99596194]]\n"
     ]
    }
   ],
   "source": [
    "print(x)\n"
   ]
  },
  {
   "cell_type": "code",
   "execution_count": 16,
   "id": "07353dfa",
   "metadata": {},
   "outputs": [
    {
     "name": "stderr",
     "output_type": "stream",
     "text": [
      "C:\\Users\\user\\AppData\\Local\\Temp\\ipykernel_12920\\2893341752.py:1: UserWarning: \n",
      "\n",
      "`distplot` is a deprecated function and will be removed in seaborn v0.14.0.\n",
      "\n",
      "Please adapt your code to use either `displot` (a figure-level function with\n",
      "similar flexibility) or `kdeplot` (an axes-level function for kernel density plots).\n",
      "\n",
      "For a guide to updating your code to use the new functions, please see\n",
      "https://gist.github.com/mwaskom/de44147ed2974457ad6372750bbe5751\n",
      "\n",
      "  sns.distplot(random.exponential(size=1000),hist=False)\n"
     ]
    },
    {
     "data": {
      "image/png": "[encoded data removed]",
      "text/plain": [
       "<Figure size 640x480 with 1 Axes>"
      ]
     },
     "metadata": {},
     "output_type": "display_data"
    }
   ],
   "source": [
    "sns.distplot(random.exponential(size=1000),hist=False)\n",
    "plt.show()"
   ]
  },
  {
   "cell_type": "code",
   "execution_count": 17,
   "id": "bfa050ee",
   "metadata": {},
   "outputs": [],
   "source": [
    "#Python code to demonstrate the\n",
    "#use of numpy.cov\n",
    "import numpy as np\n"
   ]
  },
  {
   "cell_type": "code",
   "execution_count": 18,
   "id": "62e4228a",
   "metadata": {},
   "outputs": [],
   "source": [
    "x=[1.23, 2.12, 3.34, 4.5]\n",
    "y=[2.56, 2.89, 3.76, 3.95]"
   ]
  },
  {
   "cell_type": "code",
   "execution_count": 19,
   "id": "4b3806fa",
   "metadata": {},
   "outputs": [
    {
     "name": "stdout",
     "output_type": "stream",
     "text": [
      "[[2.03629167 0.9313    ]\n",
      " [0.9313     0.4498    ]]\n"
     ]
    }
   ],
   "source": [
    "#find out covariance with respect columns\n",
    "cov_mat = np.stack((x,y), axis=0)\n",
    "print(np.cov(cov_mat))"
   ]
  },
  {
   "cell_type": "code",
   "execution_count": 21,
   "id": "a5f00760",
   "metadata": {},
   "outputs": [
    {
     "name": "stdout",
     "output_type": "stream",
     "text": [
      "The correlation between x and y is: \n",
      " [[1.         0.82477049]\n",
      " [0.82477049 1.        ]]\n"
     ]
    }
   ],
   "source": [
    "import numpy as np\n",
    "#Using seed function to generate the same random number every time with the same seed value\n",
    "np.random.seed(4)\n",
    "#create a random array of 500 integers between 0 and 50\n",
    "x= np.random.randint(0, 50, 500)\n",
    "#create the second array using first array by adding some noise\n",
    "y= x+np.random.normal(0,10,500)\n",
    "correlation= np.corrcoef(x,y)\n",
    "#print the result\n",
    "print('The correlation between x and y is: \\n',correlation)"
   ]
  },
  {
   "cell_type": "code",
   "execution_count": 27,
   "id": "4946d813",
   "metadata": {},
   "outputs": [],
   "source": [
    "import pandas as pd"
   ]
  },
  {
   "cell_type": "code",
   "execution_count": 24,
   "id": "00da4db0",
   "metadata": {},
   "outputs": [
    {
     "name": "stdout",
     "output_type": "stream",
     "text": [
      "Fruit\n",
      "apple     4\n",
      "banana    4\n",
      "orange    2\n",
      "Name: count, dtype: int64\n"
     ]
    }
   ],
   "source": [
    "df= pd.DataFrame(data = ['apple','apple','banana','orange','apple','banana','banana','orange','banana','apple'],columns=['Fruit'])\n",
    "absolute_frequencies=df['Fruit'].value_counts()\n",
    "print(absolute_frequencies)"
   ]
  },
  {
   "cell_type": "code",
   "execution_count": 29,
   "id": "7fcefd39",
   "metadata": {},
   "outputs": [
    {
     "name": "stdout",
     "output_type": "stream",
     "text": [
      "Fruit\n",
      "apple     0.4\n",
      "banana    0.4\n",
      "orange    0.2\n",
      "Name: proportion, dtype: float64\n"
     ]
    }
   ],
   "source": [
    "df = pd.DataFrame(data=['apple','apple','banana','orange','apple','banana','banana','orange','banana','apple'],columns=['Fruit'])\n",
    "relative_frequencies = df['Fruit'].value_counts(normalize=True)\n",
    "print(relative_frequencies)"
   ]
  },
  {
   "cell_type": "code",
   "execution_count": 30,
   "id": "b41aced2",
   "metadata": {},
   "outputs": [],
   "source": [
    "import scipy.stats as stats"
   ]
  },
  {
   "cell_type": "code",
   "execution_count": 31,
   "id": "981c5fcb",
   "metadata": {},
   "outputs": [],
   "source": [
    "import math"
   ]
  },
  {
   "cell_type": "code",
   "execution_count": 33,
   "id": "3fa1d8b6",
   "metadata": {},
   "outputs": [],
   "source": [
    "#Specify sample occurrences(x),sample size(n) and confidence level\n",
    "x=6\n",
    "n=30\n",
    "confidence_level = 0.95\n",
    "#Calculate the point estimate, alpha, the critical z-value, the standard error, and the margin of error\n",
    "point_estimate=x/n\n",
    "alpha=(1-confidence_level)\n",
    "critical_z=stats.norm.ppf(1-alpha/2)\n",
    "standard_error=math.sqrt((point_estimate*(1-point_estimate)/n))\n",
    "margin_of_error = critical_z*standard_error\n",
    "#Calculate the lower and upper bound of the confidence interval\n",
    "lower_bound=point_estimate - margin_of_error\n",
    "upper_bound=point_estimate + margin_of_error"
   ]
  },
  {
   "cell_type": "code",
   "execution_count": 34,
   "id": "9b6f3701",
   "metadata": {},
   "outputs": [
    {
     "name": "stdout",
     "output_type": "stream",
     "text": [
      "Point Estimate:0.200\n",
      "Critical Z-value: 1.960\n",
      "Margin of error: 0.143\n",
      "Confidence Interval:[0.057,0.343]\n",
      "The95.0%confidence interval for the population proportion is:\n",
      "between 0.057 and 0.343\n"
     ]
    }
   ],
   "source": [
    "#print the results\n",
    "print(\"Point Estimate:{:.3f}\".format(point_estimate))\n",
    "print(\"Critical Z-value: {:.3f}\".format(critical_z))\n",
    "print(\"Margin of error: {:.3f}\".format(margin_of_error))\n",
    "print(\"Confidence Interval:[{:.3f},{:.3f}]\".format(lower_bound,upper_bound))\n",
    "print(\"The{:.1%}confidence interval for the population proportion is:\".format(confidence_level))\n",
    "print(\"between {:.3f} and {:.3f}\".format(lower_bound,upper_bound))"
   ]
  },
  {
   "cell_type": "code",
   "execution_count": null,
   "id": "7b00606d",
   "metadata": {},
   "outputs": [],
   "source": []
  }
 ],
 "metadata": {
  "kernelspec": {
   "display_name": "Python 3 (ipykernel)",
   "language": "python",
   "name": "python3"
  },
  "language_info": {
   "codemirror_mode": {
    "name": "ipython",
    "version": 3
   },
   "file_extension": ".py",
   "mimetype": "text/x-python",
   "name": "python",
   "nbconvert_exporter": "python",
   "pygments_lexer": "ipython3",
   "version": "3.11.5"
  }
 },
 "nbformat": 4,
 "nbformat_minor": 5
}
